{
 "cells": [
  {
   "cell_type": "code",
   "execution_count": 1,
   "id": "ab59ded2-9dde-477b-86a8-70b6b1470429",
   "metadata": {},
   "outputs": [
    {
     "ename": "ModuleNotFoundError",
     "evalue": "No module named 'torch'",
     "output_type": "error",
     "traceback": [
      "\u001b[0;31m---------------------------------------------------------------------------\u001b[0m",
      "\u001b[0;31mModuleNotFoundError\u001b[0m                       Traceback (most recent call last)",
      "\u001b[0;32m/tmp/ipykernel_9951/4256884566.py\u001b[0m in \u001b[0;36m<module>\u001b[0;34m\u001b[0m\n\u001b[0;32m----> 1\u001b[0;31m \u001b[0;32mimport\u001b[0m \u001b[0mtorch\u001b[0m\u001b[0;34m\u001b[0m\u001b[0;34m\u001b[0m\u001b[0m\n\u001b[0m\u001b[1;32m      2\u001b[0m \u001b[0;32mimport\u001b[0m \u001b[0mmatplotlib\u001b[0m\u001b[0;34m.\u001b[0m\u001b[0mpyplot\u001b[0m \u001b[0;32mas\u001b[0m \u001b[0mplt\u001b[0m\u001b[0;34m\u001b[0m\u001b[0;34m\u001b[0m\u001b[0m\n\u001b[1;32m      3\u001b[0m \u001b[0;32mfrom\u001b[0m \u001b[0mtorch\u001b[0m\u001b[0;34m.\u001b[0m\u001b[0mutils\u001b[0m\u001b[0;34m.\u001b[0m\u001b[0mdata\u001b[0m \u001b[0;32mimport\u001b[0m \u001b[0mDataset\u001b[0m\u001b[0;34m,\u001b[0m \u001b[0mDataLoader\u001b[0m\u001b[0;34m\u001b[0m\u001b[0;34m\u001b[0m\u001b[0m\n\u001b[1;32m      4\u001b[0m \u001b[0;32mimport\u001b[0m \u001b[0mtorch\u001b[0m\u001b[0;34m.\u001b[0m\u001b[0mnn\u001b[0m \u001b[0;32mas\u001b[0m \u001b[0mnn\u001b[0m\u001b[0;34m\u001b[0m\u001b[0;34m\u001b[0m\u001b[0m\n\u001b[1;32m      5\u001b[0m \u001b[0;32mimport\u001b[0m \u001b[0mnumpy\u001b[0m \u001b[0;32mas\u001b[0m \u001b[0mnp\u001b[0m\u001b[0;34m\u001b[0m\u001b[0;34m\u001b[0m\u001b[0m\n",
      "\u001b[0;31mModuleNotFoundError\u001b[0m: No module named 'torch'"
     ]
    }
   ],
   "source": [
    "import torch\n",
    "import matplotlib.pyplot as plt\n",
    "from torch.utils.data import Dataset, DataLoader\n",
    "import torch.nn as nn\n",
    "import numpy as np"
   ]
  },
  {
   "cell_type": "code",
   "execution_count": null,
   "id": "9afe16c2-537b-45e4-9f34-66aeb542fa64",
   "metadata": {},
   "outputs": [],
   "source": [
    "losses = []\n",
    "torch.manual_seed(42)"
   ]
  },
  {
   "cell_type": "code",
   "execution_count": null,
   "id": "4c3adaf1-edc0-4404-a415-044e7c3235da",
   "metadata": {},
   "outputs": [],
   "source": [
    "torch.cuda.is_available()"
   ]
  },
  {
   "cell_type": "code",
   "execution_count": null,
   "id": "faa72e38-2efe-4498-92bd-d689c1ae9701",
   "metadata": {},
   "outputs": [],
   "source": [
    "x = torch.tensor([[0,0],[0,1],[1,0],[1,1]], dtype=torch.float32)\n",
    "y = torch.tensor([0,1,1,0], dtype = torch.float32)"
   ]
  },
  {
   "cell_type": "code",
   "execution_count": null,
   "id": "854ac96a-383e-4b3f-b1b4-6034e5f14e12",
   "metadata": {},
   "outputs": [],
   "source": [
    "class xor(nn.Module):\n",
    "    def __init__(self):\n",
    "        super(xor,self).__init__()\n",
    "        self.l1 = nn.Linear(2,2,bias=True)\n",
    "        self.sig1 = nn.Sigmoid()\n",
    "        self.l2 = nn.Linear(2,1,bias = True)\n",
    "        self.sig2 = nn.Sigmoid()\n",
    "    def forward(self, x):\n",
    "        x = self.l1(x)\n",
    "        x = self.sig1(x)\n",
    "        x = self.l2(x)\n",
    "        #x = self.sig2(x)\n",
    "        return x"
   ]
  },
  {
   "cell_type": "code",
   "execution_count": null,
   "id": "a6bab689-8fcb-473b-9db6-90d4a33cac90",
   "metadata": {},
   "outputs": [],
   "source": [
    "class mydata(Dataset):\n",
    "    def __init__(self, x, y):\n",
    "        self.x = x\n",
    "        self.y = y\n",
    "    def __len__(self):\n",
    "        return len(self.x)\n",
    "    def __getitem__(self, id):\n",
    "        return self.x[id].to(torch.device(\"cuda\")), self.y[id].to(torch.device(\"cuda\"))"
   ]
  },
  {
   "cell_type": "code",
   "execution_count": null,
   "id": "a6aa2350-5511-4d56-aa70-10ad97ef67a2",
   "metadata": {},
   "outputs": [],
   "source": [
    "data = mydata(x,y)\n",
    "batch = 1\n",
    "loader = DataLoader(data, batch_size = batch, shuffle = True)\n",
    "device = torch.device(\"cuda\")\n",
    "model = xor().to(device)\n",
    "print(model)"
   ]
  },
  {
   "cell_type": "code",
   "execution_count": null,
   "id": "59eca2ab-3bc1-4215-9245-80be100087d5",
   "metadata": {},
   "outputs": [],
   "source": [
    "loss = torch.nn.MSELoss()\n",
    "optim = torch.optim.SGD(model.parameters(), lr = 0.03)\n"
   ]
  },
  {
   "cell_type": "code",
   "execution_count": null,
   "id": "89839a66-912e-4967-b855-5df16eda92c1",
   "metadata": {},
   "outputs": [],
   "source": [
    "def train_one_epoch(index):\n",
    "    total = 0\n",
    "    for i, data in enumerate(loader):\n",
    "        inputs, labels = data\n",
    "        optim.zero_grad()\n",
    "        outputs = model(inputs)\n",
    "        l = loss(outputs.flatten(), labels)\n",
    "        l.backward()\n",
    "        optim.step()\n",
    "        total += l.item()\n",
    "    return total/len(loader)/batch"
   ]
  },
  {
   "cell_type": "code",
   "execution_count": null,
   "id": "500562ca-d39b-4fcc-819b-236c568e419a",
   "metadata": {},
   "outputs": [],
   "source": [
    "epochs = 10000\n",
    "for epoch in range(epochs):\n",
    "    model.train(True)\n",
    "    l = train_one_epoch(model)\n",
    "    losses.append(l)\n",
    "    if epoch%1000==0:\n",
    "        print(f\"epoch: {epoch}\\nLoss:{l}\\n\")"
   ]
  },
  {
   "cell_type": "code",
   "execution_count": null,
   "id": "ca51bd5e-bdd3-4d4e-9678-88249b0d622c",
   "metadata": {},
   "outputs": [],
   "source": [
    "plt.plot(losses)"
   ]
  },
  {
   "cell_type": "code",
   "execution_count": null,
   "id": "9f5fac7b-d298-4573-b635-15860c87e57d",
   "metadata": {},
   "outputs": [],
   "source": [
    "def sigmoid(x):\n",
    "    return 1.0/(1+torch.exp(-x))\n"
   ]
  },
  {
   "cell_type": "code",
   "execution_count": null,
   "id": "78cfdde3-7442-445a-8d30-d9e90b4ef7d5",
   "metadata": {},
   "outputs": [],
   "source": [
    "test = torch.tensor([0,0], dtype = torch.float32).to(device)\n",
    "answer = 1\n",
    "layer1 = torch.matmul(model.l1.weight, test) + model.l1.bias\n",
    "layer1 = sigmoid(layer1)\n",
    "layer2 = torch.matmul(model.l2.weight, layer1) + model.l2.bias\n",
    "layer2 = sigmoid(layer2)\n",
    "print(layer2)"
   ]
  },
  {
   "cell_type": "code",
   "execution_count": null,
   "id": "9f43284b-99b0-44fe-b44d-299286971a9e",
   "metadata": {},
   "outputs": [],
   "source": []
  }
 ],
 "metadata": {
  "kernelspec": {
   "display_name": "Python 3 (ipykernel)",
   "language": "python",
   "name": "python3"
  },
  "language_info": {
   "codemirror_mode": {
    "name": "ipython",
    "version": 3
   },
   "file_extension": ".py",
   "mimetype": "text/x-python",
   "name": "python",
   "nbconvert_exporter": "python",
   "pygments_lexer": "ipython3",
   "version": "3.10.12"
  }
 },
 "nbformat": 4,
 "nbformat_minor": 5
}

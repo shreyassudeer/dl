{
 "cells": [
  {
   "cell_type": "code",
   "execution_count": 147,
   "id": "cfde179c-3e8b-4d5b-af59-d5c07c650ce4",
   "metadata": {},
   "outputs": [],
   "source": [
    "#Q1"
   ]
  },
  {
   "cell_type": "code",
   "execution_count": 148,
   "id": "57052e21-da2d-4ed7-a998-fa49212d049f",
   "metadata": {},
   "outputs": [],
   "source": [
    "import torch"
   ]
  },
  {
   "cell_type": "code",
   "execution_count": 149,
   "id": "9434a983-f108-4e38-b059-87509b6ddb47",
   "metadata": {},
   "outputs": [],
   "source": [
    "a=torch.tensor(1.0,requires_grad=True)\n",
    "b=torch.tensor(4.0,requires_grad=True)\n",
    "x=2*a+3*b\n",
    "y=5*a*a+3*b*b*b\n",
    "z=2*x+3*y"
   ]
  },
  {
   "cell_type": "code",
   "execution_count": 150,
   "id": "c47ef628-5d0c-4325-9fb1-7fc31af7343e",
   "metadata": {},
   "outputs": [
    {
     "name": "stdout",
     "output_type": "stream",
     "text": [
      "x: tensor(14., grad_fn=<AddBackward0>)\n",
      "y=x*x: tensor(197., grad_fn=<AddBackward0>)\n",
      "z=2*y+3 tensor(619., grad_fn=<AddBackward0>)\n"
     ]
    }
   ],
   "source": [
    "print(\"x:\",x)\n",
    "print(\"y=x*x:\",y)\n",
    "print(\"z=2*y+3\",z)"
   ]
  },
  {
   "cell_type": "code",
   "execution_count": 151,
   "id": "2b657999-9443-44ab-8bb2-e35cce4ef713",
   "metadata": {},
   "outputs": [
    {
     "name": "stdout",
     "output_type": "stream",
     "text": [
      "working out gradients dz/da\n",
      "gradient at a: tensor(34.)\n"
     ]
    }
   ],
   "source": [
    "z.backward()\n",
    "print(\"working out gradients dz/da\")\n",
    "print(\"gradient at a:\",a.grad)"
   ]
  },
  {
   "cell_type": "code",
   "execution_count": 152,
   "id": "100adb8b-266d-436c-bba3-38053f463160",
   "metadata": {},
   "outputs": [
    {
     "name": "stdout",
     "output_type": "stream",
     "text": [
      "tensor(34., grad_fn=<AddBackward0>)\n"
     ]
    }
   ],
   "source": [
    "dzx = 2\n",
    "dxa = 2\n",
    "dzy = 3\n",
    "dya = 10*a\n",
    "dza = dzx*dxa + dzy*dya\n",
    "print(dza)"
   ]
  },
  {
   "cell_type": "code",
   "execution_count": 153,
   "id": "ca60a18c-ab3c-48bf-b7ff-914ba000e41a",
   "metadata": {},
   "outputs": [],
   "source": [
    "#Q2"
   ]
  },
  {
   "cell_type": "code",
   "execution_count": 154,
   "id": "296c31e2-cb0a-4f4e-9183-8958967f6653",
   "metadata": {},
   "outputs": [],
   "source": [
    "def relu(input):\n",
    "    if input > 0:\n",
    "    \treturn input\n",
    "    else:\n",
    "    \treturn 0"
   ]
  },
  {
   "cell_type": "code",
   "execution_count": 155,
   "id": "3d89abb1-e101-4b53-a80d-d16e44278734",
   "metadata": {},
   "outputs": [],
   "source": [
    "b=torch.tensor(2.0,requires_grad=True)\n",
    "x=torch.tensor(2.5,requires_grad=True)\n",
    "w=torch.tensor(3.0,requires_grad=True)\n",
    "u=w*x\n",
    "v=u+b\n",
    "a=relu(v)"
   ]
  },
  {
   "cell_type": "code",
   "execution_count": 156,
   "id": "cb210a18-a463-4167-b9bc-da1f495d4d6e",
   "metadata": {},
   "outputs": [
    {
     "name": "stdout",
     "output_type": "stream",
     "text": [
      "gradient at w: tensor(2.5000)\n"
     ]
    }
   ],
   "source": [
    "a.backward()\n",
    "print(\"gradient at w:\",w.grad)"
   ]
  },
  {
   "cell_type": "code",
   "execution_count": 157,
   "id": "6fd4a844-b80c-4ca6-8b10-cb478a8fbea7",
   "metadata": {},
   "outputs": [
    {
     "name": "stdout",
     "output_type": "stream",
     "text": [
      "tensor(2.5000, grad_fn=<MulBackward0>)\n"
     ]
    }
   ],
   "source": [
    "dav = 1 if a>0 else 0\n",
    "dvu = 1\n",
    "duw = x\n",
    "dw = dav*dvu*duw\n",
    "print(dw)"
   ]
  },
  {
   "cell_type": "code",
   "execution_count": 158,
   "id": "1a04bd13-5537-4a7c-b36a-4cc5d1cea823",
   "metadata": {},
   "outputs": [],
   "source": [
    "#Q3"
   ]
  },
  {
   "cell_type": "code",
   "execution_count": 159,
   "id": "69fa9134-05c6-4f50-a477-103bd7c5f80a",
   "metadata": {},
   "outputs": [],
   "source": [
    "def sigmoid(x):\n",
    "    return 1 / (1 + torch.exp(-x))"
   ]
  },
  {
   "cell_type": "code",
   "execution_count": 160,
   "id": "eb5aedc2-7190-4531-aa4f-f652c6015c87",
   "metadata": {},
   "outputs": [],
   "source": [
    "b=torch.tensor(1.0,requires_grad=True)\n",
    "x=torch.tensor(1.0,requires_grad=True)\n",
    "w=torch.tensor(1.0,requires_grad=True)\n",
    "u=w*x\n",
    "v=u+b\n",
    "a=sigmoid(v)"
   ]
  },
  {
   "cell_type": "code",
   "execution_count": 161,
   "id": "f2fd8e8c-7027-4ac1-973c-c773142b41ff",
   "metadata": {},
   "outputs": [
    {
     "name": "stdout",
     "output_type": "stream",
     "text": [
      "gradient at w: tensor(0.1050)\n"
     ]
    }
   ],
   "source": [
    "a.backward()\n",
    "print(\"gradient at w:\",w.grad)"
   ]
  },
  {
   "cell_type": "code",
   "execution_count": 162,
   "id": "705a8e19-f0df-4c27-82da-d1cf8198ce02",
   "metadata": {},
   "outputs": [
    {
     "name": "stdout",
     "output_type": "stream",
     "text": [
      "tensor(0.1050, grad_fn=<MulBackward0>)\n"
     ]
    }
   ],
   "source": [
    "t1 = -v\n",
    "t2 = torch.exp(t1)\n",
    "t3 = 1+t2\n",
    "a = 1.0/t3\n",
    "da3 = -1.0/(t3**2)\n",
    "da2 = da3*1\n",
    "da1 = da2*torch.exp(t1)\n",
    "da = da1*-1\n",
    "\n",
    "\n",
    "print(da*x)"
   ]
  },
  {
   "cell_type": "code",
   "execution_count": 163,
   "id": "7cd6041c-9491-4f2e-8674-8765609eb207",
   "metadata": {},
   "outputs": [],
   "source": [
    "#Q4"
   ]
  },
  {
   "cell_type": "code",
   "execution_count": 164,
   "id": "448380cb-186a-4a67-b99e-f050053ab546",
   "metadata": {},
   "outputs": [],
   "source": [
    "x=torch.tensor(1.0,requires_grad=True)"
   ]
  },
  {
   "cell_type": "code",
   "execution_count": 165,
   "id": "9b1fdfb8-3ebc-4989-9b9a-9da946c65991",
   "metadata": {},
   "outputs": [],
   "source": [
    "f=torch.exp(-x**2-2*x-torch.sin(x))"
   ]
  },
  {
   "cell_type": "code",
   "execution_count": 166,
   "id": "a91df72e-d3c4-4f5d-b7d1-41b0a8c8e4a2",
   "metadata": {},
   "outputs": [
    {
     "name": "stdout",
     "output_type": "stream",
     "text": [
      "gradient at x: tensor(-0.0974)\n"
     ]
    }
   ],
   "source": [
    "f.backward()\n",
    "print(\"gradient at x:\",x.grad)"
   ]
  },
  {
   "cell_type": "code",
   "execution_count": 167,
   "id": "b0cbd071-6aaa-4044-978d-b7b091980b07",
   "metadata": {},
   "outputs": [
    {
     "name": "stdout",
     "output_type": "stream",
     "text": [
      "tensor(-0.0974, grad_fn=<MulBackward0>)\n"
     ]
    }
   ],
   "source": [
    "a = -x**2\n",
    "b = -2*x\n",
    "c = -torch.sin(x)\n",
    "d = a+b+c\n",
    "e = torch.exp(d)\n",
    "dax = -2*x\n",
    "dbx = -2\n",
    "dcx = -torch.cos(x)\n",
    "ddx = dax+dbx+dcx\n",
    "dex = e*ddx\n",
    "print(dex)"
   ]
  },
  {
   "cell_type": "code",
   "execution_count": 168,
   "id": "cfce5bc7-c501-4aee-90fd-9c74b3dc74c1",
   "metadata": {},
   "outputs": [],
   "source": [
    "#Q5"
   ]
  },
  {
   "cell_type": "code",
   "execution_count": 169,
   "id": "63d51d60-ceec-4dd8-93c4-37dd1423cbc0",
   "metadata": {},
   "outputs": [],
   "source": [
    "x=torch.tensor(1.0,requires_grad=True)"
   ]
  },
  {
   "cell_type": "code",
   "execution_count": 170,
   "id": "c8c105f1-8379-490a-b453-6b6db650410b",
   "metadata": {},
   "outputs": [],
   "source": [
    "y=8*x**4+3*x**3+7*x**2+6*x+3"
   ]
  },
  {
   "cell_type": "code",
   "execution_count": 171,
   "id": "01ff2e8a-e0f4-45e6-a47f-92e4e9d8713e",
   "metadata": {},
   "outputs": [
    {
     "name": "stdout",
     "output_type": "stream",
     "text": [
      "gradient at x: tensor(61.)\n"
     ]
    }
   ],
   "source": [
    "y.backward()\n",
    "print(\"gradient at x:\",x.grad)"
   ]
  },
  {
   "cell_type": "code",
   "execution_count": 172,
   "id": "7fd4f2c3-694f-4423-b8a2-bc550455a955",
   "metadata": {},
   "outputs": [],
   "source": [
    "a=8*x**4\n",
    "b=3*x**3\n",
    "c=7*x**2\n",
    "d=6*x\n",
    "e=3\n",
    "f=a+b+c+d+e"
   ]
  },
  {
   "cell_type": "code",
   "execution_count": 173,
   "id": "b0cad09c-dbf3-4709-98d8-81ee41aa6241",
   "metadata": {},
   "outputs": [],
   "source": [
    "dax=32*x**3\n",
    "dbx=9*x**2\n",
    "dcx=14*x\n",
    "ddx=6\n",
    "dex=0\n",
    "dfx=dax+dbx+dcx+ddx+dex"
   ]
  },
  {
   "cell_type": "code",
   "execution_count": 174,
   "id": "9a5371a0-eebb-48ca-aeb5-3ab42929faf9",
   "metadata": {},
   "outputs": [
    {
     "name": "stdout",
     "output_type": "stream",
     "text": [
      "tensor(61., grad_fn=<AddBackward0>)\n"
     ]
    }
   ],
   "source": [
    "print(dfx)"
   ]
  },
  {
   "cell_type": "code",
   "execution_count": 175,
   "id": "bc51dd2c-0c65-46bf-bebc-31f85cd6b486",
   "metadata": {},
   "outputs": [],
   "source": [
    "#Q6"
   ]
  },
  {
   "cell_type": "code",
   "execution_count": 176,
   "id": "59baf6b7-7467-496c-b82a-3b7f5aaa5410",
   "metadata": {},
   "outputs": [],
   "source": [
    "x=torch.tensor(1.0,requires_grad=True)\n",
    "y=torch.tensor(1.0,requires_grad=True)\n",
    "z=torch.tensor(1.0,requires_grad=True)"
   ]
  },
  {
   "cell_type": "code",
   "execution_count": 177,
   "id": "9ab775dc-8fa8-4224-b65e-21cd1a44b783",
   "metadata": {},
   "outputs": [
    {
     "name": "stdout",
     "output_type": "stream",
     "text": [
      "tensor(-0.1340)\n"
     ]
    }
   ],
   "source": [
    "a = 2*x\n",
    "b = torch.sin(y)\n",
    "c = (a/b)\n",
    "d = z*c\n",
    "e = torch.log(1+d)\n",
    "f = torch.tanh(e)\n",
    "a.retain_grad()\n",
    "b.retain_grad()\n",
    "c.retain_grad()\n",
    "d.retain_grad()\n",
    "e.retain_grad()\n",
    "f.retain_grad()\n",
    "\n",
    "f.backward()\n",
    "\n",
    "print(y.grad)"
   ]
  },
  {
   "cell_type": "code",
   "execution_count": 178,
   "id": "d7ab6bbc-6825-408a-bb1d-1c0677873117",
   "metadata": {},
   "outputs": [
    {
     "name": "stdout",
     "output_type": "stream",
     "text": [
      "tensor(-0.1340, grad_fn=<MulBackward0>)\n"
     ]
    }
   ],
   "source": [
    "dfe = 1-(torch.tanh(e)**2)\n",
    "ded = 1.0/(d+1)\n",
    "ddc = z\n",
    "dcb = -a/(b**2)\n",
    "dby = torch.cos(y)\n",
    "print(dfe*ded*ddc*dcb*dby)"
   ]
  }
 ],
 "metadata": {
  "kernelspec": {
   "display_name": "Python 3 (ipykernel)",
   "language": "python",
   "name": "python3"
  },
  "language_info": {
   "codemirror_mode": {
    "name": "ipython",
    "version": 3
   },
   "file_extension": ".py",
   "mimetype": "text/x-python",
   "name": "python",
   "nbconvert_exporter": "python",
   "pygments_lexer": "ipython3",
   "version": "3.10.12"
  }
 },
 "nbformat": 4,
 "nbformat_minor": 5
}

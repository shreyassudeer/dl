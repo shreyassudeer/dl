{
 "cells": [
  {
   "cell_type": "code",
   "execution_count": 1,
   "id": "944820a2",
   "metadata": {},
   "outputs": [
    {
     "name": "stdout",
     "output_type": "stream",
     "text": [
      "For stride=1, output image shape: torch.Size([1, 1, 4, 4])\n",
      "For stride=2, output image shape: torch.Size([1, 1, 2, 2])\n",
      "For stride=3, output image shape: torch.Size([1, 1, 2, 2])\n"
     ]
    }
   ],
   "source": [
    "import torch\n",
    "import torch.nn.functional as F\n",
    "\n",
    "# Sample image and kernel\n",
    "image = torch.rand(1, 1, 6, 6)  # (batch_size, channels, height, width)\n",
    "kernel = torch.ones(1, 1, 3, 3)\n",
    "\n",
    "# Different stride values\n",
    "strides = [1, 2, 3]\n",
    "\n",
    "for stride in strides:\n",
    "    out_image = F.conv2d(image, kernel, stride=stride, padding=0)\n",
    "    print(f\"For stride={stride}, output image shape: {out_image.shape}\")\n"
   ]
  },
  {
   "cell_type": "code",
   "execution_count": 2,
   "id": "8f29eced",
   "metadata": {},
   "outputs": [
    {
     "name": "stdout",
     "output_type": "stream",
     "text": [
      "For padding=0, output image shape: torch.Size([1, 1, 4, 4])\n",
      "For padding=1, output image shape: torch.Size([1, 1, 6, 6])\n",
      "For padding=2, output image shape: torch.Size([1, 1, 8, 8])\n"
     ]
    }
   ],
   "source": [
    "import torch\n",
    "import torch.nn.functional as F\n",
    "\n",
    "# Sample image and kernel\n",
    "image = torch.rand(1, 1, 6, 6)\n",
    "kernel = torch.ones(1, 1, 3, 3)\n",
    "\n",
    "# Different padding values\n",
    "paddings = [0, 1, 2]\n",
    "\n",
    "for padding in paddings:\n",
    "    out_image = F.conv2d(image, kernel, stride=1, padding=padding)\n",
    "    print(f\"For padding={padding}, output image shape: {out_image.shape}\")\n"
   ]
  },
  {
   "cell_type": "code",
   "execution_count": 3,
   "id": "57c963d7",
   "metadata": {},
   "outputs": [
    {
     "name": "stdout",
     "output_type": "stream",
     "text": [
      "Total number of parameters in the network: 10\n"
     ]
    }
   ],
   "source": [
    "# Parameters in the convolutional layer\n",
    "input_channels = 1\n",
    "output_channels = 1\n",
    "kernel_size = 3\n",
    "conv_params = (input_channels * output_channels * kernel_size * kernel_size) + output_channels\n",
    "\n",
    "print(f\"Total number of parameters in the network: {conv_params}\")\n"
   ]
  },
  {
   "cell_type": "markdown",
   "id": "88c4c61f",
   "metadata": {},
   "source": [
    "# q2"
   ]
  },
  {
   "cell_type": "code",
   "execution_count": 4,
   "id": "f6d4dc6b",
   "metadata": {},
   "outputs": [
    {
     "name": "stdout",
     "output_type": "stream",
     "text": [
      "Output shape using nn.Conv2d: torch.Size([1, 3, 4, 4])\n",
      "Output shape using functional.conv2d: torch.Size([1, 3, 4, 4])\n",
      "Outputs are equal: False\n"
     ]
    }
   ],
   "source": [
    "import torch\n",
    "import torch.nn as nn\n",
    "import torch.nn.functional as F\n",
    "\n",
    "# Sample image and kernel\n",
    "image = torch.rand(1, 1, 6, 6)  # (batch_size, channels, height, width)\n",
    "out_channels = 3\n",
    "kernel_size = 3\n",
    "\n",
    "# Apply torch.nn.Conv2d\n",
    "conv_layer = nn.Conv2d(in_channels=1, out_channels=out_channels, kernel_size=kernel_size)\n",
    "conv_output = conv_layer(image)\n",
    "print(\"Output shape using nn.Conv2d:\", conv_output.shape)\n",
    "\n",
    "# Implement equivalent using torch.nn.functional.conv2d\n",
    "kernel = torch.ones(out_channels, 1, kernel_size, kernel_size)\n",
    "conv_output_functional = F.conv2d(image, kernel, stride=1, padding=0)\n",
    "print(\"Output shape using functional.conv2d:\", conv_output_functional.shape)\n",
    "\n",
    "# Check if the outputs are the same\n",
    "print(\"Outputs are equal:\", torch.allclose(conv_output, conv_output_functional))\n"
   ]
  },
  {
   "cell_type": "markdown",
   "id": "a01294db",
   "metadata": {},
   "source": [
    "# q3"
   ]
  },
  {
   "cell_type": "code",
   "execution_count": 5,
   "id": "8f0ae8cc",
   "metadata": {},
   "outputs": [
    {
     "name": "stdout",
     "output_type": "stream",
     "text": [
      "Downloading http://yann.lecun.com/exdb/mnist/train-images-idx3-ubyte.gz\n",
      "Failed to download (trying next):\n",
      "HTTP Error 403: Forbidden\n",
      "\n",
      "Downloading https://ossci-datasets.s3.amazonaws.com/mnist/train-images-idx3-ubyte.gz\n",
      "Downloading https://ossci-datasets.s3.amazonaws.com/mnist/train-images-idx3-ubyte.gz to ./data/MNIST/raw/train-images-idx3-ubyte.gz\n"
     ]
    },
    {
     "name": "stderr",
     "output_type": "stream",
     "text": [
      "100.0%\n"
     ]
    },
    {
     "name": "stdout",
     "output_type": "stream",
     "text": [
      "Extracting ./data/MNIST/raw/train-images-idx3-ubyte.gz to ./data/MNIST/raw\n",
      "\n",
      "Downloading http://yann.lecun.com/exdb/mnist/train-labels-idx1-ubyte.gz\n",
      "Failed to download (trying next):\n",
      "HTTP Error 403: Forbidden\n",
      "\n",
      "Downloading https://ossci-datasets.s3.amazonaws.com/mnist/train-labels-idx1-ubyte.gz\n",
      "Downloading https://ossci-datasets.s3.amazonaws.com/mnist/train-labels-idx1-ubyte.gz to ./data/MNIST/raw/train-labels-idx1-ubyte.gz\n"
     ]
    },
    {
     "name": "stderr",
     "output_type": "stream",
     "text": [
      "100.0%\n"
     ]
    },
    {
     "name": "stdout",
     "output_type": "stream",
     "text": [
      "Extracting ./data/MNIST/raw/train-labels-idx1-ubyte.gz to ./data/MNIST/raw\n",
      "\n",
      "Downloading http://yann.lecun.com/exdb/mnist/t10k-images-idx3-ubyte.gz\n",
      "Failed to download (trying next):\n",
      "HTTP Error 403: Forbidden\n",
      "\n",
      "Downloading https://ossci-datasets.s3.amazonaws.com/mnist/t10k-images-idx3-ubyte.gz\n",
      "Downloading https://ossci-datasets.s3.amazonaws.com/mnist/t10k-images-idx3-ubyte.gz to ./data/MNIST/raw/t10k-images-idx3-ubyte.gz\n"
     ]
    },
    {
     "name": "stderr",
     "output_type": "stream",
     "text": [
      "100.0%\n"
     ]
    },
    {
     "name": "stdout",
     "output_type": "stream",
     "text": [
      "Extracting ./data/MNIST/raw/t10k-images-idx3-ubyte.gz to ./data/MNIST/raw\n",
      "\n",
      "Downloading http://yann.lecun.com/exdb/mnist/t10k-labels-idx1-ubyte.gz\n",
      "Failed to download (trying next):\n",
      "HTTP Error 403: Forbidden\n",
      "\n",
      "Downloading https://ossci-datasets.s3.amazonaws.com/mnist/t10k-labels-idx1-ubyte.gz\n",
      "Downloading https://ossci-datasets.s3.amazonaws.com/mnist/t10k-labels-idx1-ubyte.gz to ./data/MNIST/raw/t10k-labels-idx1-ubyte.gz\n"
     ]
    },
    {
     "name": "stderr",
     "output_type": "stream",
     "text": [
      "100.0%\n"
     ]
    },
    {
     "name": "stdout",
     "output_type": "stream",
     "text": [
      "Extracting ./data/MNIST/raw/t10k-labels-idx1-ubyte.gz to ./data/MNIST/raw\n",
      "\n",
      "Number of learnable parameters: 421642\n",
      "Epoch [1/5], Loss: 0.1691333744660028\n",
      "Epoch [2/5], Loss: 0.04882837298970574\n",
      "Epoch [3/5], Loss: 0.033636031925015755\n",
      "Epoch [4/5], Loss: 0.024595925978702384\n",
      "Epoch [5/5], Loss: 0.019446905639428677\n",
      "Accuracy on test set: 99.04%\n"
     ]
    },
    {
     "data": {
      "image/png": "[encoded data removed]",
      "text/plain": [
       "<Figure size 432x288 with 2 Axes>"
      ]
     },
     "metadata": {
      "needs_background": "light"
     },
     "output_type": "display_data"
    }
   ],
   "source": [
    "import torch\n",
    "import torch.nn as nn\n",
    "import torch.optim as optim\n",
    "import torchvision\n",
    "import torchvision.transforms as transforms\n",
    "from sklearn.metrics import confusion_matrix\n",
    "import matplotlib.pyplot as plt\n",
    "\n",
    "# Set random seed for reproducibility\n",
    "torch.manual_seed(42)\n",
    "\n",
    "# Define transforms and create data loaders\n",
    "transform = transforms.Compose([\n",
    "    transforms.ToTensor(),\n",
    "    transforms.Normalize((0.5,), (0.5,))\n",
    "])\n",
    "\n",
    "trainset = torchvision.datasets.MNIST(root='./data', train=True, download=True, transform=transform)\n",
    "testset = torchvision.datasets.MNIST(root='./data', train=False, download=True, transform=transform)\n",
    "\n",
    "trainloader = torch.utils.data.DataLoader(trainset, batch_size=64, shuffle=True)\n",
    "testloader = torch.utils.data.DataLoader(testset, batch_size=64, shuffle=False)\n",
    "\n",
    "# Define CNN model architecture\n",
    "class CNN(nn.Module):\n",
    "    def __init__(self):\n",
    "        super(CNN, self).__init__()\n",
    "        self.conv1 = nn.Conv2d(1, 32, kernel_size=3, padding=1)\n",
    "        self.conv2 = nn.Conv2d(32, 64, kernel_size=3, padding=1)\n",
    "        self.pool = nn.MaxPool2d(kernel_size=2, stride=2)\n",
    "        self.fc1 = nn.Linear(64 * 7 * 7, 128)\n",
    "        self.fc2 = nn.Linear(128, 10)\n",
    "\n",
    "    def forward(self, x):\n",
    "        x = self.pool(F.relu(self.conv1(x)))\n",
    "        x = self.pool(F.relu(self.conv2(x)))\n",
    "        x = x.view(-1, 64 * 7 * 7)\n",
    "        x = F.relu(self.fc1(x))\n",
    "        x = self.fc2(x)\n",
    "        return x\n",
    "\n",
    "# Initialize the model\n",
    "model = CNN()\n",
    "\n",
    "# Count the number of learnable parameters\n",
    "num_params = sum(p.numel() for p in model.parameters() if p.requires_grad)\n",
    "print(\"Number of learnable parameters:\", num_params)\n",
    "\n",
    "# Define loss function and optimizer\n",
    "criterion = nn.CrossEntropyLoss()\n",
    "optimizer = optim.Adam(model.parameters(), lr=0.001)\n",
    "\n",
    "# Training the CNN model\n",
    "num_epochs = 5\n",
    "\n",
    "for epoch in range(num_epochs):\n",
    "    model.train()\n",
    "    running_loss = 0.0\n",
    "\n",
    "    for images, labels in trainloader:\n",
    "        optimizer.zero_grad()\n",
    "        outputs = model(images)\n",
    "        loss = criterion(outputs, labels)\n",
    "        loss.backward()\n",
    "        optimizer.step()\n",
    "\n",
    "        running_loss += loss.item()\n",
    "\n",
    "    print(f\"Epoch [{epoch + 1}/{num_epochs}], Loss: {running_loss / len(trainloader)}\")\n",
    "\n",
    "# Evaluate the CNN model\n",
    "model.eval()\n",
    "correct = 0\n",
    "total = 0\n",
    "predicted_labels = []\n",
    "true_labels = []\n",
    "\n",
    "with torch.no_grad():\n",
    "    for images, labels in testloader:\n",
    "        outputs = model(images)\n",
    "        _, predicted = torch.max(outputs.data, 1)\n",
    "        correct += (predicted == labels).sum().item()\n",
    "        total += labels.size(0)\n",
    "        predicted_labels.extend(predicted.numpy())\n",
    "        true_labels.extend(labels.numpy())\n",
    "\n",
    "print(f\"Accuracy on test set: {100 * correct / total:.2f}%\")\n",
    "\n",
    "# Plot confusion matrix\n",
    "cm = confusion_matrix(true_labels, predicted_labels)\n",
    "plt.imshow(cm, interpolation='nearest', cmap=plt.cm.Blues)\n",
    "plt.title('Confusion matrix')\n",
    "plt.colorbar()\n",
    "tick_marks = list(range(10))\n",
    "plt.xticks(tick_marks, tick_marks)\n",
    "plt.yticks(tick_marks, tick_marks)\n",
    "plt.xlabel('Predicted Label')\n",
    "plt.ylabel('True Label')\n",
    "plt.show()\n"
   ]
  },
  {
   "cell_type": "markdown",
   "id": "a67cd56b",
   "metadata": {},
   "source": [
    "# q4"
   ]
  },
  {
   "cell_type": "code",
   "execution_count": 6,
   "id": "5c8d7395",
   "metadata": {},
   "outputs": [
    {
     "name": "stdout",
     "output_type": "stream",
     "text": [
      "Number of learnable parameters in modified model: 105866\n",
      "Epoch [1/5], Loss: 0.23081656461477335\n",
      "Epoch [2/5], Loss: 0.05880132100747418\n",
      "Epoch [3/5], Loss: 0.04198756946924963\n",
      "Epoch [4/5], Loss: 0.03273561195414419\n",
      "Epoch [5/5], Loss: 0.02703679359821689\n"
     ]
    },
    {
     "data": {
      "image/png": "[encoded data removed]",
      "text/plain": [
       "<Figure size 720x432 with 1 Axes>"
      ]
     },
     "metadata": {
      "needs_background": "light"
     },
     "output_type": "display_data"
    }
   ],
   "source": [
    "import torch\n",
    "import torch.nn as nn\n",
    "import torch.optim as optim\n",
    "import torchvision\n",
    "import torchvision.transforms as transforms\n",
    "from sklearn.metrics import confusion_matrix\n",
    "import matplotlib.pyplot as plt\n",
    "\n",
    "# Set random seed for reproducibility\n",
    "torch.manual_seed(42)\n",
    "\n",
    "# Define transforms and create data loaders\n",
    "transform = transforms.Compose([\n",
    "    transforms.ToTensor(),\n",
    "    transforms.Normalize((0.5,), (0.5,))\n",
    "])\n",
    "\n",
    "trainset = torchvision.datasets.MNIST(root='./data', train=True, download=True, transform=transform)\n",
    "testset = torchvision.datasets.MNIST(root='./data', train=False, download=True, transform=transform)\n",
    "\n",
    "trainloader = torch.utils.data.DataLoader(trainset, batch_size=64, shuffle=True)\n",
    "testloader = torch.utils.data.DataLoader(testset, batch_size=64, shuffle=False)\n",
    "\n",
    "# Define Modified CNN model architecture\n",
    "class ModifiedCNN(nn.Module):\n",
    "    def __init__(self):\n",
    "        super(ModifiedCNN, self).__init__()\n",
    "        self.conv1 = nn.Conv2d(1, 16, kernel_size=3, padding=1)\n",
    "        self.conv2 = nn.Conv2d(16, 32, kernel_size=3, padding=1)\n",
    "        self.pool = nn.MaxPool2d(kernel_size=2, stride=2)\n",
    "        self.fc1 = nn.Linear(32 * 7 * 7, 64)\n",
    "        self.fc2 = nn.Linear(64, 10)\n",
    "\n",
    "    def forward(self, x):\n",
    "        x = self.pool(F.relu(self.conv1(x)))\n",
    "        x = self.pool(F.relu(self.conv2(x)))\n",
    "        x = x.view(-1, 32 * 7 * 7)\n",
    "        x = F.relu(self.fc1(x))\n",
    "        x = self.fc2(x)\n",
    "        return x\n",
    "\n",
    "# Initialize the modified model\n",
    "modified_model = ModifiedCNN()\n",
    "\n",
    "# Count the number of learnable parameters in the modified model\n",
    "modified_num_params = sum(p.numel() for p in modified_model.parameters() if p.requires_grad)\n",
    "print(\"Number of learnable parameters in modified model:\", modified_num_params)\n",
    "\n",
    "# Define loss function and optimizer\n",
    "criterion = nn.CrossEntropyLoss()\n",
    "optimizer = optim.Adam(modified_model.parameters(), lr=0.001)\n",
    "\n",
    "# Training the Modified CNN model\n",
    "num_epochs = 5\n",
    "modified_accuracy_list = []\n",
    "modified_num_params_list = []\n",
    "\n",
    "for epoch in range(num_epochs):\n",
    "    modified_model.train()\n",
    "    running_loss = 0.0\n",
    "\n",
    "    for images, labels in trainloader:\n",
    "        optimizer.zero_grad()\n",
    "        outputs = modified_model(images)\n",
    "        loss = criterion(outputs, labels)\n",
    "        loss.backward()\n",
    "        optimizer.step()\n",
    "\n",
    "        running_loss += loss.item()\n",
    "\n",
    "    print(f\"Epoch [{epoch + 1}/{num_epochs}], Loss: {running_loss / len(trainloader)}\")\n",
    "\n",
    "    # Evaluate the modified model on the test set\n",
    "    modified_model.eval()\n",
    "    correct = 0\n",
    "    total = 0\n",
    "    with torch.no_grad():\n",
    "        for images, labels in testloader:\n",
    "            outputs = modified_model(images)\n",
    "            _, predicted = torch.max(outputs.data, 1)\n",
    "            correct += (predicted == labels).sum().item()\n",
    "            total += labels.size(0)\n",
    "\n",
    "    accuracy = 100 * correct / total\n",
    "    modified_accuracy_list.append(accuracy)\n",
    "    modified_num_params_list.append(modified_num_params)\n",
    "\n",
    "# Plot the percentage drop in parameters vs accuracy\n",
    "baseline_num_params = num_params\n",
    "percentage_drop = [(baseline_num_params - num_params) / baseline_num_params * 100 for num_params in modified_num_params_list]\n",
    "\n",
    "plt.figure(figsize=(10, 6))\n",
    "plt.plot(percentage_drop, modified_accuracy_list, marker='o')\n",
    "plt.title('Percentage Drop in Parameters vs Accuracy')\n",
    "plt.xlabel('Percentage Drop in Parameters')\n",
    "plt.ylabel('Accuracy (%)')\n",
    "plt.grid(True)\n",
    "plt.show()\n"
   ]
  },
  {
   "cell_type": "code",
   "execution_count": null,
   "id": "2d190a36",
   "metadata": {},
   "outputs": [],
   "source": []
  }
 ],
 "metadata": {
  "kernelspec": {
   "display_name": "Python 3 (ipykernel)",
   "language": "python",
   "name": "python3"
  },
  "language_info": {
   "codemirror_mode": {
    "name": "ipython",
    "version": 3
   },
   "file_extension": ".py",
   "mimetype": "text/x-python",
   "name": "python",
   "nbconvert_exporter": "python",
   "pygments_lexer": "ipython3",
   "version": "3.10.12"
  }
 },
 "nbformat": 4,
 "nbformat_minor": 5
}
